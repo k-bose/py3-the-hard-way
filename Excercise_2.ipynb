{
 "cells": [
  {
   "attachments": {},
   "cell_type": "markdown",
   "metadata": {},
   "source": [
    "# Excercise 2 (Page 14 - 15)"
   ]
  },
  {
   "attachments": {},
   "cell_type": "markdown",
   "metadata": {},
   "source": [
    "## Comments and Pound Characters"
   ]
  },
  {
   "attachments": {},
   "cell_type": "markdown",
   "metadata": {},
   "source": [
    "### Usage of comments with pound sign"
   ]
  },
  {
   "cell_type": "code",
   "execution_count": 1,
   "metadata": {
    "tags": [
     "ex2.py"
    ]
   },
   "outputs": [
    {
     "name": "stdout",
     "output_type": "stream",
     "text": [
      "I am printing something\n"
     ]
    }
   ],
   "source": [
    "# This is a comment\n",
    "print(\"I am printing something\") # This also a way to comment\n",
    "#print(\"This line will not be printed\")"
   ]
  },
  {
   "attachments": {},
   "cell_type": "markdown",
   "metadata": {},
   "source": [
    "### Study Drills\n",
    "1. Find out if you were right about what the # character does and make sure you know what it’s called (octothorpe or pound character).\n",
    "2. Take your ex2.py file and review each line going backward. Start at the last line, and check each word in reverse against what you should have typed.\n",
    "3. Did you find more mistakes? Fix them.\n",
    "4. Read what you typed above out loud, including saying each character by its name. Did you find more mistakes? Fix them."
   ]
  }
 ],
 "metadata": {
  "kernelspec": {
   "display_name": "Python 3",
   "language": "python",
   "name": "python3"
  },
  "language_info": {
   "codemirror_mode": {
    "name": "ipython",
    "version": 3
   },
   "file_extension": ".py",
   "mimetype": "text/x-python",
   "name": "python",
   "nbconvert_exporter": "python",
   "pygments_lexer": "ipython3",
   "version": "3.9.6"
  },
  "orig_nbformat": 4
 },
 "nbformat": 4,
 "nbformat_minor": 2
}
